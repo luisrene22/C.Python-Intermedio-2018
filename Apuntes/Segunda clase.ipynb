{
 "cells": [
  {
   "cell_type": "markdown",
   "metadata": {},
   "source": [
    "# Manejo de excepciones"
   ]
  },
  {
   "cell_type": "markdown",
   "metadata": {},
   "source": [
    "* Primer ejemplo"
   ]
  },
  {
   "cell_type": "code",
   "execution_count": 15,
   "metadata": {},
   "outputs": [
    {
     "name": "stdout",
     "output_type": "stream",
     "text": [
      "No se puede dividir entre cero\n",
      "Yo siempre aparezco\n"
     ]
    }
   ],
   "source": [
    "try:\n",
    "    a = float(2 / 0)\n",
    "except:\n",
    "    print('No se puede dividir entre cero')\n",
    "else:\n",
    "    print(a)\n",
    "finally:\n",
    "    print('Yo siempre aparezco')"
   ]
  },
  {
   "cell_type": "markdown",
   "metadata": {},
   "source": [
    "* Segundo ejemplo"
   ]
  },
  {
   "cell_type": "code",
   "execution_count": 2,
   "metadata": {},
   "outputs": [
    {
     "ename": "SyntaxError",
     "evalue": "default 'except:' must be last (<ipython-input-2-3fb5f7acec4f>, line 4)",
     "output_type": "error",
     "traceback": [
      "\u001b[0;36m  File \u001b[0;32m\"<ipython-input-2-3fb5f7acec4f>\"\u001b[0;36m, line \u001b[0;32m4\u001b[0m\n\u001b[0;31m    print('No se puede dividir entre cero')\u001b[0m\n\u001b[0m         ^\u001b[0m\n\u001b[0;31mSyntaxError\u001b[0m\u001b[0;31m:\u001b[0m default 'except:' must be last\n"
     ]
    }
   ],
   "source": [
    "try:\n",
    "    a = float(2 / 2)\n",
    "except ZeroDivisionError:\n",
    "    print('No se puede dividir entre cero')\n",
    "except:\n",
    "    print('Error de sintaxError')\n",
    "except TypeError:\n",
    "    pint('Error de tipo')\n",
    "else:\n",
    "    print(a)\n",
    "finally:\n",
    "    print('Yo siempre aparezco')"
   ]
  },
  {
   "cell_type": "markdown",
   "metadata": {},
   "source": [
    "* Calculadora"
   ]
  },
  {
   "cell_type": "code",
   "execution_count": 10,
   "metadata": {},
   "outputs": [
    {
     "ename": "SyntaxError",
     "evalue": "invalid syntax (<ipython-input-10-f298dccdb311>, line 30)",
     "output_type": "error",
     "traceback": [
      "\u001b[0;36m  File \u001b[0;32m\"<ipython-input-10-f298dccdb311>\"\u001b[0;36m, line \u001b[0;32m30\u001b[0m\n\u001b[0;31m    except Value Error:\u001b[0m\n\u001b[0m                     ^\u001b[0m\n\u001b[0;31mSyntaxError\u001b[0m\u001b[0;31m:\u001b[0m invalid syntax\n"
     ]
    }
   ],
   "source": [
    "def suma(a,b):\n",
    "    c = a + b\n",
    "    return c\n",
    "\n",
    "def resta(a,b):\n",
    "    c = a - b\n",
    "    return c\n",
    "\n",
    "def multiplica(a,b):\n",
    "    c = a * b\n",
    "    return c\n",
    "\n",
    "def division(a,b):\n",
    "    try:\n",
    "        \n",
    "        c = a / b\n",
    "    \n",
    "        return c\n",
    "    \n",
    "    except ZeroDivisionError: \n",
    "        print('No se puede dividir entre cero')\n",
    "        return 'null'\n",
    "\n",
    "while True:\n",
    "\n",
    "    try:\n",
    "        dato1 = input('Dame un valor:')\n",
    "        dato2 = input('Dame otro valor:')\n",
    "        break\n",
    "    except Value Error:\n",
    "        print('Ingresaste algo mal :(')\n",
    "\n",
    "menu = input('Escribe que quieres hacer: suma, resta, multiplica, divide')\n",
    "if(menu == 'suma'):\n",
    "    print(suma(dato1,dato2))\n",
    "elif (menu == 'suma'):\n",
    "    print(suma(dato1,dato2))\n",
    "\n",
    "dato1 = input('Dame un valor:')\n",
    "dato2 = input('Dame otro valor:')\n",
    "menu = input('Escribe que quieres hacer: suma, resta, multiplica, divide')\n",
    "if (menu == 'resta'):\n",
    "    print(suma(dato1,dato2))\n",
    "elif (menu == 'resta'):\n",
    "    print(suma(dato1,dato2))\n",
    "    \n",
    "dato1 = input('Dame un valor:')\n",
    "dato2 = input('Dame otro valor:')\n",
    "menu = input('Escribe que quieres hacer: suma, resta, multiplica, divide')\n",
    "if (menu == 'multiplica'):\n",
    "    print(suma(dato1,dato2))\n",
    "elif (menu == 'multiplica'):\n",
    "    print(suma(dato1,dato2))\n",
    "    \n",
    "dato1 = input('Dame un valor:')\n",
    "dato2 = input('Dame otro valor:')\n",
    "menu = input('Escribe que quieres hacer: suma, resta, multiplica, divide')\n",
    "if (menu == 'divide'):\n",
    "    print(suma(dato1,dato2))\n",
    "elif (menu == 'divide'):\n",
    "    print(suma(dato1,dato2))"
   ]
  },
  {
   "cell_type": "markdown",
   "metadata": {},
   "source": [
    "* Raise"
   ]
  },
  {
   "cell_type": "code",
   "execution_count": 9,
   "metadata": {},
   "outputs": [
    {
     "name": "stdout",
     "output_type": "stream",
     "text": [
      "¿Cuantos años tienes?8\n",
      "eres un niño\n"
     ]
    }
   ],
   "source": [
    "edad = int(input('¿Cuantos años tienes?'))\n",
    "if (edad >= 5 and edad <= 10):\n",
    "    print('eres un niño')\n",
    "elif(edad >= 11 and edad <= 15):\n",
    "    print('eres un puberto')\n",
    "elif(edad >= 16 and edad <= 25):\n",
    "    print('eres adolescente')\n",
    "elif(edad >= 26 and edad <= 40):\n",
    "    print('eres adulto')"
   ]
  },
  {
   "cell_type": "markdown",
   "metadata": {},
   "source": [
    "# Mi primer Notebook\n",
    "![Notebook](https://media.giphy.com/media/XlM7J1gbWvjos/source.gif)\n",
    "```md\n",
    "#Generar una imagen desde un link\n",
    "![Notebook](https://cdn-images-1.medium.com/max/1600/1*LPnY8nOLg4S6_TG0DEXwsg.png)\n",
    "\n",
    "```"
   ]
  },
  {
   "cell_type": "markdown",
   "metadata": {},
   "source": [
    "# Mi primer Notebook\n",
    "![Notebook](https://www.youtube.com/watch?v=rkmBNhDgw1M)\n",
    "```md\n",
    "#Generar una imagen desde un link\n",
    "![Notebook](https://cdn-images-1.medium.com/max/1600/1*LPnY8nOLg4S6_TG0DEXwsg.png)\n",
    "\n",
    "```"
   ]
  },
  {
   "cell_type": "markdown",
   "metadata": {},
   "source": [
    "### Zen de Python\n",
    "\n",
    "1. Sencillo es mejor que anidado. \n",
    "2. Escaso es mejor que denso\n",
    "3. La legibilidad cuenta\n",
    "4. Los casos espciales no son tan especiales para romper las reglas"
   ]
  },
  {
   "cell_type": "markdown",
   "metadata": {},
   "source": [
    "### Continuación del Zen\n",
    "+ Lo practico le gana a la pureza\n",
    "* Los errores no deben pasar en silencio"
   ]
  },
  {
   "cell_type": "markdown",
   "metadata": {},
   "source": [
    "#### Lineas de Codigo\n",
    "¿Como se imprime un hola mundo en Python?\n",
    "` print('hola mundo') `"
   ]
  },
  {
   "cell_type": "code",
   "execution_count": 12,
   "metadata": {},
   "outputs": [
    {
     "name": "stdout",
     "output_type": "stream",
     "text": [
      "hola mundo\n"
     ]
    }
   ],
   "source": [
    "print('hola mundo')"
   ]
  },
  {
   "cell_type": "markdown",
   "metadata": {},
   "source": [
    "## Calculadora\n",
    "crearemos una calculadora con el paradigma que sea."
   ]
  },
  {
   "cell_type": "code",
   "execution_count": 5,
   "metadata": {},
   "outputs": [
    {
     "name": "stdout",
     "output_type": "stream",
     "text": [
      "Escribe que quieres hacer: suma, resta, multiplica, divide:suma\n"
     ]
    },
    {
     "ename": "NameError",
     "evalue": "name 'dato1' is not defined",
     "output_type": "error",
     "traceback": [
      "\u001b[0;31m---------------------------------------------------------------------------\u001b[0m",
      "\u001b[0;31mNameError\u001b[0m                                 Traceback (most recent call last)",
      "\u001b[0;32m<ipython-input-5-cd629c5e953d>\u001b[0m in \u001b[0;36m<module>\u001b[0;34m()\u001b[0m\n\u001b[1;32m     18\u001b[0m \u001b[0mmenu\u001b[0m \u001b[0;34m=\u001b[0m \u001b[0minput\u001b[0m\u001b[0;34m(\u001b[0m\u001b[0;34m'Escribe que quieres hacer: suma, resta, multiplica, divide:'\u001b[0m\u001b[0;34m)\u001b[0m\u001b[0;34m\u001b[0m\u001b[0m\n\u001b[1;32m     19\u001b[0m \u001b[0;32mif\u001b[0m\u001b[0;34m(\u001b[0m\u001b[0mmenu\u001b[0m \u001b[0;34m==\u001b[0m \u001b[0;34m'suma'\u001b[0m\u001b[0;34m)\u001b[0m\u001b[0;34m:\u001b[0m\u001b[0;34m\u001b[0m\u001b[0m\n\u001b[0;32m---> 20\u001b[0;31m     \u001b[0mprint\u001b[0m\u001b[0;34m(\u001b[0m\u001b[0msuma\u001b[0m\u001b[0;34m(\u001b[0m\u001b[0mdato1\u001b[0m\u001b[0;34m,\u001b[0m\u001b[0mdato2\u001b[0m\u001b[0;34m)\u001b[0m\u001b[0;34m)\u001b[0m\u001b[0;34m\u001b[0m\u001b[0m\n\u001b[0m\u001b[1;32m     21\u001b[0m \u001b[0;32melif\u001b[0m \u001b[0;34m(\u001b[0m\u001b[0mmenu\u001b[0m \u001b[0;34m==\u001b[0m \u001b[0;34m'suma'\u001b[0m\u001b[0;34m)\u001b[0m\u001b[0;34m:\u001b[0m\u001b[0;34m\u001b[0m\u001b[0m\n\u001b[1;32m     22\u001b[0m     \u001b[0mprint\u001b[0m\u001b[0;34m(\u001b[0m\u001b[0msuma\u001b[0m\u001b[0;34m(\u001b[0m\u001b[0mdato1\u001b[0m\u001b[0;34m,\u001b[0m\u001b[0mdato2\u001b[0m\u001b[0;34m)\u001b[0m\u001b[0;34m)\u001b[0m\u001b[0;34m\u001b[0m\u001b[0m\n",
      "\u001b[0;31mNameError\u001b[0m: name 'dato1' is not defined"
     ]
    }
   ],
   "source": [
    "def suma(a,b):\n",
    "    c = a + b\n",
    "    return c\n",
    "\n",
    "def resta(a,b):\n",
    "    c = a - b\n",
    "    return c\n",
    "\n",
    "def multiplica(a,b):\n",
    "    c = a * b\n",
    "    return c\n",
    "\n",
    "def division(a,b):\n",
    "        \n",
    "    c = a / b\n",
    "    return c\n",
    "\n",
    "menu = input('Escribe que quieres hacer: suma, resta, multiplica, divide:')\n",
    "if(menu == 'suma'):\n",
    "    print(suma(dato1,dato2))\n",
    "elif (menu == 'suma'):\n",
    "    print(suma(dato1,dato2))\n",
    "\n",
    "dato1 = input('Dame un valor:')\n",
    "dato2 = input('Dame otro valor:')\n",
    "menu = input('Escribe que quieres hacer: suma, resta, multiplica, divide')\n",
    "if (menu == 'resta'):\n",
    "    print(suma(dato1,dato2))\n",
    "elif (menu == 'resta'):\n",
    "    print(suma(dato1,dato2))\n",
    "    \n",
    "dato1 = input('Dame un valor:')\n",
    "dato2 = input('Dame otro valor:')\n",
    "menu = input('Escribe que quieres hacer: suma, resta, multiplica, divide')\n",
    "if (menu == 'multiplica'):\n",
    "    print(suma(dato1,dato2))\n",
    "elif (menu == 'multiplica'):\n",
    "    print(suma(dato1,dato2))\n",
    "    \n",
    "dato1 = input('Dame un valor:')\n",
    "dato2 = input('Dame otro valor:')\n",
    "menu = input('Escribe que quieres hacer: suma, resta, multiplica, divide')\n",
    "if (menu == 'divide'):\n",
    "    print(suma(dato1,dato2))\n",
    "elif (menu == 'divide'):\n",
    "    print(suma(dato1,dato2))"
   ]
  },
  {
   "cell_type": "markdown",
   "metadata": {},
   "source": [
    "## puerto 1024"
   ]
  },
  {
   "cell_type": "code",
   "execution_count": 17,
   "metadata": {},
   "outputs": [
    {
     "name": "stdout",
     "output_type": "stream",
     "text": [
      "Escribe tu correo:xx.zero.xx.red@gmail.com\n",
      "Escrbe tu contraseña:········\n",
      "Escribe el correohola\n",
      "contenido del correohola\n",
      "Eh, we a quien se lo envio?xx.zero.xx.red@gmail.com\n"
     ]
    }
   ],
   "source": [
    "import smtplib\n",
    "import getpass\n",
    "from email.mime.multipart import MIMEMultipart\n",
    "from email.mime.text import MIMEText\n",
    "from email.utils import formatdate\n",
    "\n",
    "def send_mail(send_from, password, send_to, message, subject):\n",
    "    msg = MIMEMultipart()\n",
    "    msg['from'] = send_from\n",
    "    msg['To'] = send_to\n",
    "    msg['Date'] = formatdate(localtime = True)\n",
    "    msg['Subject'] = subject\n",
    "    msg.attach(MIMEText(message))\n",
    "\n",
    "\n",
    "    server = 'smtp.gmail.com'\n",
    "    puerto = 587\n",
    "\n",
    "\n",
    "    smtp = smtplib.SMTP(server, puerto)\n",
    "    smtp.starttls()\n",
    "    smtp.login(send_from, password)\n",
    "    smtp.sendmail(send_from, send_to, msg.as_string())\n",
    "\n",
    "\n",
    "username = input('Escribe tu correo:')\n",
    "password = getpass.getpass('Escrbe tu contraseña:')\n",
    "subject = input('Escribe el correo')\n",
    "text = input('contenido del correo')\n",
    "to = input('Eh, we a quien se lo envio?')\n",
    "\n",
    "send_mail(username, password, to, text, subject)"
   ]
  },
  {
   "cell_type": "code",
   "execution_count": null,
   "metadata": {},
   "outputs": [],
   "source": [
    "import socket\n",
    "\n",
    "sock = socket.socket()\n",
    "\n",
    "host = 'localhost'\n",
    "port = 5000\n",
    "\n",
    "def server_program():\n",
    "    sock.bind((host,port))\n",
    "    \n",
    "    sock.listen()\n",
    "    conn, address = sock.accept()\n",
    "    print('cliente en la ip: %s'%(str(address)))\n",
    "    while True:\n",
    "        data =conn.recv(1024).decode()\n",
    "        if not data:\n",
    "            break\n",
    "        \n",
    "        print('El usuario dice: ' +str(data))\n",
    "        data = input('->')\n",
    "        conn.send(data.encode())\n",
    "        \n",
    "if  __name__== '__main__':\n",
    "    server_program()"
   ]
  },
  {
   "cell_type": "code",
   "execution_count": null,
   "metadata": {},
   "outputs": [],
   "source": [
    "def client_program():\n",
    "    host = 'localhost'\n",
    "    port = 5000 #este debe de ser el mismo del server\n",
    "    \n",
    "    clente = socket.socket()\n",
    "    clente.connect((host,port))\n",
    "    \n",
    "    message = input('->')\n",
    "    while message.lower().strip() !='bye':\n",
    "        clente.send(message.enconde())\n",
    "        data = cliente.recv(1024).decode()\n",
    "        \n",
    "        print('El servidor dice:' +data)\n",
    "        message = input(->)\n",
    "    cliente.closed()\n",
    "    \n",
    "if __name__=='__main__':\n",
    "    client_program()"
   ]
  },
  {
   "cell_type": "code",
   "execution_count": null,
   "metadata": {},
   "outputs": [],
   "source": []
  }
 ],
 "metadata": {
  "kernelspec": {
   "display_name": "Python 3",
   "language": "python",
   "name": "python3"
  },
  "language_info": {
   "codemirror_mode": {
    "name": "ipython",
    "version": 3
   },
   "file_extension": ".py",
   "mimetype": "text/x-python",
   "name": "python",
   "nbconvert_exporter": "python",
   "pygments_lexer": "ipython3",
   "version": "3.6.5"
  }
 },
 "nbformat": 4,
 "nbformat_minor": 2
}
